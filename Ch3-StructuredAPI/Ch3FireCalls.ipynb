{
  "nbformat": 4,
  "nbformat_minor": 0,
  "metadata": {
    "application/vnd.databricks.v1+notebook": {
      "notebookName": "Ch3FireCalls",
      "dashboards": [],
      "notebookMetadata": {
        "pythonIndentUnit": 2
      },
      "language": "python",
      "widgets": {},
      "notebookOrigID": 2899629670363011
    },
    "colab": {
      "name": "Ch3FireCalls.ipynb",
      "provenance": []
    }
  },
  "cells": [
    {
      "cell_type": "code",
      "metadata": {
        "application/vnd.databricks.v1+cell": {
          "title": "",
          "showTitle": false,
          "inputWidgets": {},
          "nuid": "ca83a75c-72c8-41f2-a218-f70ae2d61b1b"
        },
        "id": "ueTqud8a18TE",
        "outputId": "6f597337-9790-47dc-c9a3-53601345f03a"
      },
      "source": [
        "from pyspark.sql import SparkSession\n",
        "from pyspark.sql.types import *\n",
        "spark = SparkSession.builder.appName('fireCalls').getOrCreate()"
      ],
      "execution_count": null,
      "outputs": [
        {
          "output_type": "display_data",
          "data": {
            "text/html": [
              "<style scoped>\n",
              "  .ansiout {\n",
              "    display: block;\n",
              "    unicode-bidi: embed;\n",
              "    white-space: pre-wrap;\n",
              "    word-wrap: break-word;\n",
              "    word-break: break-all;\n",
              "    font-family: \"Source Code Pro\", \"Menlo\", monospace;;\n",
              "    font-size: 13px;\n",
              "    color: #555;\n",
              "    margin-left: 4px;\n",
              "    line-height: 19px;\n",
              "  }\n",
              "</style>\n",
              "<div class=\"ansiout\"></div>"
            ]
          },
          "metadata": {
            "tags": [],
            "application/vnd.databricks.v1+output": {
              "datasetInfos": [],
              "data": "<div class=\"ansiout\"></div>",
              "removedWidgets": [],
              "addedWidgets": {},
              "type": "html",
              "arguments": {}
            }
          }
        }
      ]
    },
    {
      "cell_type": "code",
      "metadata": {
        "application/vnd.databricks.v1+cell": {
          "title": "",
          "showTitle": false,
          "inputWidgets": {},
          "nuid": "630a08bb-5576-4e70-b65d-74f0e1b84351"
        },
        "id": "EZRTpDgv18TT",
        "outputId": "b4498a59-fcd1-47a6-b658-1a75b33d8b4c"
      },
      "source": [
        "fire_schema = StructType([StructField('CallNumber', IntegerType(), True),\n",
        "                StructField('UnitID', StringType(), True),\n",
        "                StructField('IncidentNumber', IntegerType(), True),\n",
        "                StructField('CallType', StringType(), True),                  \n",
        "                StructField('CallDate', StringType(), True),      \n",
        "                StructField('WatchDate', StringType(), True),\n",
        "                StructField('CallFinalDisposition', StringType(), True),\n",
        "                StructField('AvailableDtTm', StringType(), True),\n",
        "                StructField('Address', StringType(), True),       \n",
        "                StructField('City', StringType(), True),       \n",
        "                StructField('Zipcode', IntegerType(), True),       \n",
        "                StructField('Battalion', StringType(), True),                 \n",
        "                StructField('StationArea', StringType(), True),       \n",
        "                StructField('Box', StringType(), True),       \n",
        "                StructField('OriginalPriority', StringType(), True),       \n",
        "                StructField('Priority', StringType(), True),       \n",
        "                StructField('FinalPriority', IntegerType(), True),       \n",
        "                StructField('ALSUnit', BooleanType(), True),       \n",
        "                StructField('CallTypeGroup', StringType(), True),\n",
        "                StructField('NumAlarms', IntegerType(), True),\n",
        "                StructField('UnitType', StringType(), True),\n",
        "                StructField('UnitSequenceInCallDispatch', IntegerType(), True),\n",
        "                StructField('FirePreventionDistrict', StringType(), True),\n",
        "                StructField('SupervisorDistrict', StringType(), True),\n",
        "                StructField('Neighborhood', StringType(), True),\n",
        "                StructField('Location', StringType(), True),\n",
        "                StructField('RowID', StringType(), True),\n",
        "                StructField('Delay', FloatType(), True)])"
      ],
      "execution_count": null,
      "outputs": [
        {
          "output_type": "display_data",
          "data": {
            "text/html": [
              "<style scoped>\n",
              "  .ansiout {\n",
              "    display: block;\n",
              "    unicode-bidi: embed;\n",
              "    white-space: pre-wrap;\n",
              "    word-wrap: break-word;\n",
              "    word-break: break-all;\n",
              "    font-family: \"Source Code Pro\", \"Menlo\", monospace;;\n",
              "    font-size: 13px;\n",
              "    color: #555;\n",
              "    margin-left: 4px;\n",
              "    line-height: 19px;\n",
              "  }\n",
              "</style>\n",
              "<div class=\"ansiout\"></div>"
            ]
          },
          "metadata": {
            "tags": [],
            "application/vnd.databricks.v1+output": {
              "datasetInfos": [],
              "data": "<div class=\"ansiout\"></div>",
              "removedWidgets": [],
              "addedWidgets": {},
              "type": "html",
              "arguments": {}
            }
          }
        }
      ]
    },
    {
      "cell_type": "code",
      "metadata": {
        "application/vnd.databricks.v1+cell": {
          "title": "",
          "showTitle": false,
          "inputWidgets": {},
          "nuid": "cf200353-0bb8-4e0e-9dc9-7a17fbd5f722"
        },
        "id": "R02FGxaH18Th",
        "outputId": "a351d4be-e5ea-4d33-92ac-3cc3de6e88f1"
      },
      "source": [
        "fire_df = spark.read.csv(\"/databricks-datasets/learning-spark-v2/sf-fire/sf-fire-calls.csv\",header=True,schema=fire_schema)"
      ],
      "execution_count": null,
      "outputs": [
        {
          "output_type": "display_data",
          "data": {
            "text/html": [
              "<style scoped>\n",
              "  .ansiout {\n",
              "    display: block;\n",
              "    unicode-bidi: embed;\n",
              "    white-space: pre-wrap;\n",
              "    word-wrap: break-word;\n",
              "    word-break: break-all;\n",
              "    font-family: \"Source Code Pro\", \"Menlo\", monospace;;\n",
              "    font-size: 13px;\n",
              "    color: #555;\n",
              "    margin-left: 4px;\n",
              "    line-height: 19px;\n",
              "  }\n",
              "</style>\n",
              "<div class=\"ansiout\"></div>"
            ]
          },
          "metadata": {
            "tags": [],
            "application/vnd.databricks.v1+output": {
              "datasetInfos": [],
              "data": "<div class=\"ansiout\"></div>",
              "removedWidgets": [],
              "addedWidgets": {},
              "type": "html",
              "arguments": {}
            }
          }
        }
      ]
    },
    {
      "cell_type": "code",
      "metadata": {
        "application/vnd.databricks.v1+cell": {
          "title": "",
          "showTitle": false,
          "inputWidgets": {},
          "nuid": "69b364c4-01c3-4f37-8cff-e07f2b070543"
        },
        "id": "F-zNEDAI18Ti",
        "outputId": "c7e5da46-18e5-43ab-e132-5de0b273574a"
      },
      "source": [
        "fire_df.head()"
      ],
      "execution_count": null,
      "outputs": [
        {
          "output_type": "display_data",
          "data": {
            "text/html": [
              "<style scoped>\n",
              "  .ansiout {\n",
              "    display: block;\n",
              "    unicode-bidi: embed;\n",
              "    white-space: pre-wrap;\n",
              "    word-wrap: break-word;\n",
              "    word-break: break-all;\n",
              "    font-family: \"Source Code Pro\", \"Menlo\", monospace;;\n",
              "    font-size: 13px;\n",
              "    color: #555;\n",
              "    margin-left: 4px;\n",
              "    line-height: 19px;\n",
              "  }\n",
              "</style>\n",
              "<div class=\"ansiout\">Out[4]: Row(CallNumber=20110014, UnitID=&#39;M29&#39;, IncidentNumber=2003234, CallType=&#39;Medical Incident&#39;, CallDate=&#39;01/11/2002&#39;, WatchDate=&#39;01/10/2002&#39;, CallFinalDisposition=&#39;Other&#39;, AvailableDtTm=&#39;01/11/2002 01:58:43 AM&#39;, Address=&#39;10TH ST/MARKET ST&#39;, City=&#39;SF&#39;, Zipcode=94103, Battalion=&#39;B02&#39;, StationArea=&#39;36&#39;, Box=&#39;2338&#39;, OriginalPriority=&#39;1&#39;, Priority=&#39;1&#39;, FinalPriority=2, ALSUnit=True, CallTypeGroup=None, NumAlarms=1, UnitType=&#39;MEDIC&#39;, UnitSequenceInCallDispatch=1, FirePreventionDistrict=&#39;2&#39;, SupervisorDistrict=&#39;6&#39;, Neighborhood=&#39;Tenderloin&#39;, Location=&#39;(37.7765408927183, -122.417501464907)&#39;, RowID=&#39;020110014-M29&#39;, Delay=5.233333110809326)</div>"
            ]
          },
          "metadata": {
            "tags": [],
            "application/vnd.databricks.v1+output": {
              "datasetInfos": [],
              "data": "<div class=\"ansiout\">Out[4]: Row(CallNumber=20110014, UnitID=&#39;M29&#39;, IncidentNumber=2003234, CallType=&#39;Medical Incident&#39;, CallDate=&#39;01/11/2002&#39;, WatchDate=&#39;01/10/2002&#39;, CallFinalDisposition=&#39;Other&#39;, AvailableDtTm=&#39;01/11/2002 01:58:43 AM&#39;, Address=&#39;10TH ST/MARKET ST&#39;, City=&#39;SF&#39;, Zipcode=94103, Battalion=&#39;B02&#39;, StationArea=&#39;36&#39;, Box=&#39;2338&#39;, OriginalPriority=&#39;1&#39;, Priority=&#39;1&#39;, FinalPriority=2, ALSUnit=True, CallTypeGroup=None, NumAlarms=1, UnitType=&#39;MEDIC&#39;, UnitSequenceInCallDispatch=1, FirePreventionDistrict=&#39;2&#39;, SupervisorDistrict=&#39;6&#39;, Neighborhood=&#39;Tenderloin&#39;, Location=&#39;(37.7765408927183, -122.417501464907)&#39;, RowID=&#39;020110014-M29&#39;, Delay=5.233333110809326)</div>",
              "removedWidgets": [],
              "addedWidgets": {},
              "type": "html",
              "arguments": {}
            }
          }
        }
      ]
    },
    {
      "cell_type": "code",
      "metadata": {
        "application/vnd.databricks.v1+cell": {
          "title": "",
          "showTitle": false,
          "inputWidgets": {},
          "nuid": "583e2b34-f6a0-452e-87d9-3762c8ed7814"
        },
        "id": "7XUapzFl18Tj",
        "outputId": "e90e8b55-c87b-4cb8-db59-68a7a622e83a"
      },
      "source": [
        "fire_df.columns"
      ],
      "execution_count": null,
      "outputs": [
        {
          "output_type": "display_data",
          "data": {
            "text/html": [
              "<style scoped>\n",
              "  .ansiout {\n",
              "    display: block;\n",
              "    unicode-bidi: embed;\n",
              "    white-space: pre-wrap;\n",
              "    word-wrap: break-word;\n",
              "    word-break: break-all;\n",
              "    font-family: \"Source Code Pro\", \"Menlo\", monospace;;\n",
              "    font-size: 13px;\n",
              "    color: #555;\n",
              "    margin-left: 4px;\n",
              "    line-height: 19px;\n",
              "  }\n",
              "</style>\n",
              "<div class=\"ansiout\">Out[7]: [&#39;CallNumber&#39;,\n",
              " &#39;UnitID&#39;,\n",
              " &#39;IncidentNumber&#39;,\n",
              " &#39;CallType&#39;,\n",
              " &#39;CallDate&#39;,\n",
              " &#39;WatchDate&#39;,\n",
              " &#39;CallFinalDisposition&#39;,\n",
              " &#39;AvailableDtTm&#39;,\n",
              " &#39;Address&#39;,\n",
              " &#39;City&#39;,\n",
              " &#39;Zipcode&#39;,\n",
              " &#39;Battalion&#39;,\n",
              " &#39;StationArea&#39;,\n",
              " &#39;Box&#39;,\n",
              " &#39;OriginalPriority&#39;,\n",
              " &#39;Priority&#39;,\n",
              " &#39;FinalPriority&#39;,\n",
              " &#39;ALSUnit&#39;,\n",
              " &#39;CallTypeGroup&#39;,\n",
              " &#39;NumAlarms&#39;,\n",
              " &#39;UnitType&#39;,\n",
              " &#39;UnitSequenceInCallDispatch&#39;,\n",
              " &#39;FirePreventionDistrict&#39;,\n",
              " &#39;SupervisorDistrict&#39;,\n",
              " &#39;Neighborhood&#39;,\n",
              " &#39;Location&#39;,\n",
              " &#39;RowID&#39;,\n",
              " &#39;Delay&#39;]</div>"
            ]
          },
          "metadata": {
            "tags": [],
            "application/vnd.databricks.v1+output": {
              "datasetInfos": [],
              "data": "<div class=\"ansiout\">Out[7]: [&#39;CallNumber&#39;,\n &#39;UnitID&#39;,\n &#39;IncidentNumber&#39;,\n &#39;CallType&#39;,\n &#39;CallDate&#39;,\n &#39;WatchDate&#39;,\n &#39;CallFinalDisposition&#39;,\n &#39;AvailableDtTm&#39;,\n &#39;Address&#39;,\n &#39;City&#39;,\n &#39;Zipcode&#39;,\n &#39;Battalion&#39;,\n &#39;StationArea&#39;,\n &#39;Box&#39;,\n &#39;OriginalPriority&#39;,\n &#39;Priority&#39;,\n &#39;FinalPriority&#39;,\n &#39;ALSUnit&#39;,\n &#39;CallTypeGroup&#39;,\n &#39;NumAlarms&#39;,\n &#39;UnitType&#39;,\n &#39;UnitSequenceInCallDispatch&#39;,\n &#39;FirePreventionDistrict&#39;,\n &#39;SupervisorDistrict&#39;,\n &#39;Neighborhood&#39;,\n &#39;Location&#39;,\n &#39;RowID&#39;,\n &#39;Delay&#39;]</div>",
              "removedWidgets": [],
              "addedWidgets": {},
              "type": "html",
              "arguments": {}
            }
          }
        }
      ]
    },
    {
      "cell_type": "code",
      "metadata": {
        "application/vnd.databricks.v1+cell": {
          "title": "",
          "showTitle": false,
          "inputWidgets": {},
          "nuid": "04b2732b-c593-48e8-9eca-1515ffd75385"
        },
        "id": "-kmmwGES18Tk",
        "outputId": "4002154d-0df2-4bd4-b470-5521a7ac85cb"
      },
      "source": [
        "few_fire_df=fire_df.select(\"IncidentNumber\",\"AvailableDtTm\",\"CallTypeGroup\").where(fire_df[\"CallTypeGroup\"]!=\"Medical Incident\")\n",
        "few_fire_df.show(5,truncate=False)"
      ],
      "execution_count": null,
      "outputs": [
        {
          "output_type": "display_data",
          "data": {
            "text/html": [
              "<style scoped>\n",
              "  .ansiout {\n",
              "    display: block;\n",
              "    unicode-bidi: embed;\n",
              "    white-space: pre-wrap;\n",
              "    word-wrap: break-word;\n",
              "    word-break: break-all;\n",
              "    font-family: \"Source Code Pro\", \"Menlo\", monospace;;\n",
              "    font-size: 13px;\n",
              "    color: #555;\n",
              "    margin-left: 4px;\n",
              "    line-height: 19px;\n",
              "  }\n",
              "</style>\n",
              "<div class=\"ansiout\">+--------------+----------------------+--------------------+\n",
              "IncidentNumber|AvailableDtTm         |CallTypeGroup       |\n",
              "+--------------+----------------------+--------------------+\n",
              "11077699      |08/23/2011 09:26:39 PM|Non Life-threatening|\n",
              "11077699      |08/23/2011 08:43:19 PM|Non Life-threatening|\n",
              "12000005      |01/01/2012 01:00:43 AM|Non Life-threatening|\n",
              "12000002      |01/01/2012 12:20:19 AM|Fire                |\n",
              "12000003      |null                  |Fire                |\n",
              "+--------------+----------------------+--------------------+\n",
              "only showing top 5 rows\n",
              "\n",
              "</div>"
            ]
          },
          "metadata": {
            "tags": [],
            "application/vnd.databricks.v1+output": {
              "datasetInfos": [],
              "data": "<div class=\"ansiout\">+--------------+----------------------+--------------------+\n|IncidentNumber|AvailableDtTm         |CallTypeGroup       |\n+--------------+----------------------+--------------------+\n|11077699      |08/23/2011 09:26:39 PM|Non Life-threatening|\n|11077699      |08/23/2011 08:43:19 PM|Non Life-threatening|\n|12000005      |01/01/2012 01:00:43 AM|Non Life-threatening|\n|12000002      |01/01/2012 12:20:19 AM|Fire                |\n|12000003      |null                  |Fire                |\n+--------------+----------------------+--------------------+\nonly showing top 5 rows\n\n</div>",
              "removedWidgets": [],
              "addedWidgets": {},
              "type": "html",
              "arguments": {}
            }
          }
        }
      ]
    },
    {
      "cell_type": "code",
      "metadata": {
        "application/vnd.databricks.v1+cell": {
          "title": "",
          "showTitle": false,
          "inputWidgets": {},
          "nuid": "c2376b21-5c0f-4ea8-a8dd-54aaa27bbcd6"
        },
        "id": "dtBSfZQU18Tl",
        "outputId": "542ef9bd-1f56-46d6-9827-b9b66ec67da0"
      },
      "source": [
        "# In Python, return number of distinct types of calls using countDistinct()\n",
        "from pyspark.sql.functions import *\n",
        "distCallType2 = fire_df.select('CallType').where(col('CallType').isNotNull()).agg(countDistinct('CallType'))\n",
        "distCallType2.show()"
      ],
      "execution_count": null,
      "outputs": [
        {
          "output_type": "display_data",
          "data": {
            "text/html": [
              "<style scoped>\n",
              "  .ansiout {\n",
              "    display: block;\n",
              "    unicode-bidi: embed;\n",
              "    white-space: pre-wrap;\n",
              "    word-wrap: break-word;\n",
              "    word-break: break-all;\n",
              "    font-family: \"Source Code Pro\", \"Menlo\", monospace;;\n",
              "    font-size: 13px;\n",
              "    color: #555;\n",
              "    margin-left: 4px;\n",
              "    line-height: 19px;\n",
              "  }\n",
              "</style>\n",
              "<div class=\"ansiout\">+---------------+\n",
              "count(CallType)|\n",
              "+---------------+\n",
              "             32|\n",
              "+---------------+\n",
              "\n",
              "</div>"
            ]
          },
          "metadata": {
            "tags": [],
            "application/vnd.databricks.v1+output": {
              "datasetInfos": [],
              "data": "<div class=\"ansiout\">+---------------+\n|count(CallType)|\n+---------------+\n|             32|\n+---------------+\n\n</div>",
              "removedWidgets": [],
              "addedWidgets": {},
              "type": "html",
              "arguments": {}
            }
          }
        }
      ]
    },
    {
      "cell_type": "code",
      "metadata": {
        "application/vnd.databricks.v1+cell": {
          "title": "",
          "showTitle": false,
          "inputWidgets": {},
          "nuid": "ddb93f3c-e256-409d-9561-a07a37d796fb"
        },
        "id": "cGTiwoPG18Tn",
        "outputId": "3bcd67f7-d5c6-46c7-96e2-90568686d85c"
      },
      "source": [
        "# In Python, filter for only distinct non-null CallTypes from all the rows\n",
        "fire_df.select(\"CallType\").where(col('CallType').isNotNull()).distinct().show(10)"
      ],
      "execution_count": null,
      "outputs": [
        {
          "output_type": "display_data",
          "data": {
            "text/html": [
              "<style scoped>\n",
              "  .ansiout {\n",
              "    display: block;\n",
              "    unicode-bidi: embed;\n",
              "    white-space: pre-wrap;\n",
              "    word-wrap: break-word;\n",
              "    word-break: break-all;\n",
              "    font-family: \"Source Code Pro\", \"Menlo\", monospace;;\n",
              "    font-size: 13px;\n",
              "    color: #555;\n",
              "    margin-left: 4px;\n",
              "    line-height: 19px;\n",
              "  }\n",
              "</style>\n",
              "<div class=\"ansiout\">+--------------------+\n",
              "            CallType|\n",
              "+--------------------+\n",
              "              Alarms|\n",
              "Odor (Strange / U...|\n",
              "Citizen Assist / ...|\n",
              "        Vehicle Fire|\n",
              "               Other|\n",
              "        Outside Fire|\n",
              "   Electrical Hazard|\n",
              "      Structure Fire|\n",
              "    Medical Incident|\n",
              "          Fuel Spill|\n",
              "+--------------------+\n",
              "only showing top 10 rows\n",
              "\n",
              "</div>"
            ]
          },
          "metadata": {
            "tags": [],
            "application/vnd.databricks.v1+output": {
              "datasetInfos": [],
              "data": "<div class=\"ansiout\">+--------------------+\n|            CallType|\n+--------------------+\n|              Alarms|\n|Odor (Strange / U...|\n|Citizen Assist / ...|\n|        Vehicle Fire|\n|               Other|\n|        Outside Fire|\n|   Electrical Hazard|\n|      Structure Fire|\n|    Medical Incident|\n|          Fuel Spill|\n+--------------------+\nonly showing top 10 rows\n\n</div>",
              "removedWidgets": [],
              "addedWidgets": {},
              "type": "html",
              "arguments": {}
            }
          }
        }
      ]
    },
    {
      "cell_type": "code",
      "metadata": {
        "application/vnd.databricks.v1+cell": {
          "title": "",
          "showTitle": false,
          "inputWidgets": {},
          "nuid": "cd60f979-c99c-4f1d-bac3-c0436796a93e"
        },
        "id": "K1n_TLw-18Tp",
        "outputId": "c09dbbe8-56bf-47e4-a7a6-d600251dbf90"
      },
      "source": [
        "new_fire_df=fire_df.withColumnRenamed('Delay','ResponseDelayedinMin')\n",
        "new_fire_df.select('ResponseDelayedinMin').where(col('ResponseDelayedinMin') > 5).show(5,truncate=False)"
      ],
      "execution_count": null,
      "outputs": [
        {
          "output_type": "display_data",
          "data": {
            "text/html": [
              "<style scoped>\n",
              "  .ansiout {\n",
              "    display: block;\n",
              "    unicode-bidi: embed;\n",
              "    white-space: pre-wrap;\n",
              "    word-wrap: break-word;\n",
              "    word-break: break-all;\n",
              "    font-family: \"Source Code Pro\", \"Menlo\", monospace;;\n",
              "    font-size: 13px;\n",
              "    color: #555;\n",
              "    margin-left: 4px;\n",
              "    line-height: 19px;\n",
              "  }\n",
              "</style>\n",
              "<div class=\"ansiout\">+--------------------+\n",
              "ResponseDelayedinMin|\n",
              "+--------------------+\n",
              "5.233333            |\n",
              "6.9333334           |\n",
              "6.116667            |\n",
              "7.85                |\n",
              "77.333336           |\n",
              "+--------------------+\n",
              "only showing top 5 rows\n",
              "\n",
              "</div>"
            ]
          },
          "metadata": {
            "tags": [],
            "application/vnd.databricks.v1+output": {
              "datasetInfos": [],
              "data": "<div class=\"ansiout\">+--------------------+\n|ResponseDelayedinMin|\n+--------------------+\n|5.233333            |\n|6.9333334           |\n|6.116667            |\n|7.85                |\n|77.333336           |\n+--------------------+\nonly showing top 5 rows\n\n</div>",
              "removedWidgets": [],
              "addedWidgets": {},
              "type": "html",
              "arguments": {}
            }
          }
        }
      ]
    },
    {
      "cell_type": "code",
      "metadata": {
        "application/vnd.databricks.v1+cell": {
          "title": "",
          "showTitle": false,
          "inputWidgets": {},
          "nuid": "5d5715fe-962b-4378-b280-6ca76d35aa42"
        },
        "id": "WCqYxBPh18Tq",
        "outputId": "9dbae2d4-1b7b-4546-e8d8-e592433e4a86"
      },
      "source": [
        "fire_ts_df = new_fire_df.withColumn('IncidentDate',to_timestamp(col('CallDate'),'MM/dd/yyyy')).drop('CallDate')\\\n",
        ".withColumn('OnWatchDate',to_timestamp(col('WatchDate'),'MM/dd/yyyy')).drop('WatchDate')\\\n",
        ".withColumn('AvailableDtTS',to_timestamp(col('AvailableDtTm'),'MM/dd/yyyy hh:mm:ss a')).drop('AvailableDtTm')\n",
        "fire_ts_df.select('IncidentDate','OnWatchDate','AvailableDtTS').show(5,truncate=False)    "
      ],
      "execution_count": null,
      "outputs": [
        {
          "output_type": "display_data",
          "data": {
            "text/html": [
              "<style scoped>\n",
              "  .ansiout {\n",
              "    display: block;\n",
              "    unicode-bidi: embed;\n",
              "    white-space: pre-wrap;\n",
              "    word-wrap: break-word;\n",
              "    word-break: break-all;\n",
              "    font-family: \"Source Code Pro\", \"Menlo\", monospace;;\n",
              "    font-size: 13px;\n",
              "    color: #555;\n",
              "    margin-left: 4px;\n",
              "    line-height: 19px;\n",
              "  }\n",
              "</style>\n",
              "<div class=\"ansiout\">+-------------------+-------------------+-------------------+\n",
              "IncidentDate       |OnWatchDate        |AvailableDtTS      |\n",
              "+-------------------+-------------------+-------------------+\n",
              "2002-01-11 00:00:00|2002-01-10 00:00:00|2002-01-11 01:58:43|\n",
              "2002-01-11 00:00:00|2002-01-10 00:00:00|2002-01-11 02:10:17|\n",
              "2002-01-11 00:00:00|2002-01-10 00:00:00|2002-01-11 01:47:00|\n",
              "2002-01-11 00:00:00|2002-01-10 00:00:00|2002-01-11 01:51:54|\n",
              "2002-01-11 00:00:00|2002-01-10 00:00:00|2002-01-11 01:47:00|\n",
              "+-------------------+-------------------+-------------------+\n",
              "only showing top 5 rows\n",
              "\n",
              "</div>"
            ]
          },
          "metadata": {
            "tags": [],
            "application/vnd.databricks.v1+output": {
              "datasetInfos": [],
              "data": "<div class=\"ansiout\">+-------------------+-------------------+-------------------+\n|IncidentDate       |OnWatchDate        |AvailableDtTS      |\n+-------------------+-------------------+-------------------+\n|2002-01-11 00:00:00|2002-01-10 00:00:00|2002-01-11 01:58:43|\n|2002-01-11 00:00:00|2002-01-10 00:00:00|2002-01-11 02:10:17|\n|2002-01-11 00:00:00|2002-01-10 00:00:00|2002-01-11 01:47:00|\n|2002-01-11 00:00:00|2002-01-10 00:00:00|2002-01-11 01:51:54|\n|2002-01-11 00:00:00|2002-01-10 00:00:00|2002-01-11 01:47:00|\n+-------------------+-------------------+-------------------+\nonly showing top 5 rows\n\n</div>",
              "removedWidgets": [],
              "addedWidgets": {},
              "type": "html",
              "arguments": {}
            }
          }
        }
      ]
    },
    {
      "cell_type": "code",
      "metadata": {
        "application/vnd.databricks.v1+cell": {
          "title": "",
          "showTitle": false,
          "inputWidgets": {},
          "nuid": "06dd7bb4-acc7-4d59-9025-8d7f6d63092e"
        },
        "id": "ttpkJuU918Ts",
        "outputId": "99158b27-f000-45e7-fdcc-f029c91eaa13"
      },
      "source": [
        "fire_ts_df.select(year('IncidentDate')).distinct().orderBy(year(col('IncidentDate'))).show()"
      ],
      "execution_count": null,
      "outputs": [
        {
          "output_type": "display_data",
          "data": {
            "text/html": [
              "<style scoped>\n",
              "  .ansiout {\n",
              "    display: block;\n",
              "    unicode-bidi: embed;\n",
              "    white-space: pre-wrap;\n",
              "    word-wrap: break-word;\n",
              "    word-break: break-all;\n",
              "    font-family: \"Source Code Pro\", \"Menlo\", monospace;;\n",
              "    font-size: 13px;\n",
              "    color: #555;\n",
              "    margin-left: 4px;\n",
              "    line-height: 19px;\n",
              "  }\n",
              "</style>\n",
              "<div class=\"ansiout\">+------------------+\n",
              "year(IncidentDate)|\n",
              "+------------------+\n",
              "              2000|\n",
              "              2001|\n",
              "              2002|\n",
              "              2003|\n",
              "              2004|\n",
              "              2005|\n",
              "              2006|\n",
              "              2007|\n",
              "              2008|\n",
              "              2009|\n",
              "              2010|\n",
              "              2011|\n",
              "              2012|\n",
              "              2013|\n",
              "              2014|\n",
              "              2015|\n",
              "              2016|\n",
              "              2017|\n",
              "              2018|\n",
              "+------------------+\n",
              "\n",
              "</div>"
            ]
          },
          "metadata": {
            "tags": [],
            "application/vnd.databricks.v1+output": {
              "datasetInfos": [],
              "data": "<div class=\"ansiout\">+------------------+\n|year(IncidentDate)|\n+------------------+\n|              2000|\n|              2001|\n|              2002|\n|              2003|\n|              2004|\n|              2005|\n|              2006|\n|              2007|\n|              2008|\n|              2009|\n|              2010|\n|              2011|\n|              2012|\n|              2013|\n|              2014|\n|              2015|\n|              2016|\n|              2017|\n|              2018|\n+------------------+\n\n</div>",
              "removedWidgets": [],
              "addedWidgets": {},
              "type": "html",
              "arguments": {}
            }
          }
        }
      ]
    },
    {
      "cell_type": "code",
      "metadata": {
        "application/vnd.databricks.v1+cell": {
          "title": "",
          "showTitle": false,
          "inputWidgets": {},
          "nuid": "e91be93a-ff95-4168-9f68-2d7a0c3accbf"
        },
        "id": "dhZWaO9418Tt",
        "outputId": "ccf564e0-620a-46be-d49f-bf492568f6b3"
      },
      "source": [
        "# what were the most common types of fire calls?\n",
        "fire_ts_df.select('CallType').where(col('CallType').isNotNull()).groupBy('CallType').count().orderBy('count', ascending=False).show(10,truncate=False)"
      ],
      "execution_count": null,
      "outputs": [
        {
          "output_type": "display_data",
          "data": {
            "text/html": [
              "<style scoped>\n",
              "  .ansiout {\n",
              "    display: block;\n",
              "    unicode-bidi: embed;\n",
              "    white-space: pre-wrap;\n",
              "    word-wrap: break-word;\n",
              "    word-break: break-all;\n",
              "    font-family: \"Source Code Pro\", \"Menlo\", monospace;;\n",
              "    font-size: 13px;\n",
              "    color: #555;\n",
              "    margin-left: 4px;\n",
              "    line-height: 19px;\n",
              "  }\n",
              "</style>\n",
              "<div class=\"ansiout\">+-------------------------------+-------+\n",
              "CallType                       |count  |\n",
              "+-------------------------------+-------+\n",
              "Medical Incident               |2843475|\n",
              "Structure Fire                 |578998 |\n",
              "Alarms                         |483518 |\n",
              "Traffic Collision              |175507 |\n",
              "Citizen Assist / Service Call  |65360  |\n",
              "Other                          |56961  |\n",
              "Outside Fire                   |51603  |\n",
              "Vehicle Fire                   |20939  |\n",
              "Water Rescue                   |20037  |\n",
              "Gas Leak (Natural and LP Gases)|17284  |\n",
              "+-------------------------------+-------+\n",
              "only showing top 10 rows\n",
              "\n",
              "</div>"
            ]
          },
          "metadata": {
            "tags": [],
            "application/vnd.databricks.v1+output": {
              "datasetInfos": [],
              "data": "<div class=\"ansiout\">+-------------------------------+-------+\n|CallType                       |count  |\n+-------------------------------+-------+\n|Medical Incident               |2843475|\n|Structure Fire                 |578998 |\n|Alarms                         |483518 |\n|Traffic Collision              |175507 |\n|Citizen Assist / Service Call  |65360  |\n|Other                          |56961  |\n|Outside Fire                   |51603  |\n|Vehicle Fire                   |20939  |\n|Water Rescue                   |20037  |\n|Gas Leak (Natural and LP Gases)|17284  |\n+-------------------------------+-------+\nonly showing top 10 rows\n\n</div>",
              "removedWidgets": [],
              "addedWidgets": {},
              "type": "html",
              "arguments": {}
            }
          }
        }
      ]
    },
    {
      "cell_type": "code",
      "metadata": {
        "application/vnd.databricks.v1+cell": {
          "title": "",
          "showTitle": false,
          "inputWidgets": {},
          "nuid": "9f3baac8-46cd-4aa8-8271-3822c94e9c44"
        },
        "id": "iGOGYYfa18Tu",
        "outputId": "3daedcde-e96f-4c4a-9a5d-f48fdf5e8871"
      },
      "source": [
        "#compute the sum of alarms, the average response time, and the minimum and maximum response times to all fire calls\n",
        "import pyspark.sql.functions as F\n",
        "fire_ts_df.select(F.sum('NumAlarms'),F.avg('ResponseDelayedinMin'),F.min('ResponseDelayedinMin'),F.max('ResponseDelayedinMin')).show()"
      ],
      "execution_count": null,
      "outputs": [
        {
          "output_type": "display_data",
          "data": {
            "text/html": [
              "<style scoped>\n",
              "  .ansiout {\n",
              "    display: block;\n",
              "    unicode-bidi: embed;\n",
              "    white-space: pre-wrap;\n",
              "    word-wrap: break-word;\n",
              "    word-break: break-all;\n",
              "    font-family: \"Source Code Pro\", \"Menlo\", monospace;;\n",
              "    font-size: 13px;\n",
              "    color: #555;\n",
              "    margin-left: 4px;\n",
              "    line-height: 19px;\n",
              "  }\n",
              "</style>\n",
              "<div class=\"ansiout\">+--------------+-------------------------+-------------------------+-------------------------+\n",
              "sum(NumAlarms)|avg(ResponseDelayedinMin)|min(ResponseDelayedinMin)|max(ResponseDelayedinMin)|\n",
              "+--------------+-------------------------+-------------------------+-------------------------+\n",
              "       4403441|        3.902170335891614|              0.016666668|                1879.6167|\n",
              "+--------------+-------------------------+-------------------------+-------------------------+\n",
              "\n",
              "</div>"
            ]
          },
          "metadata": {
            "tags": [],
            "application/vnd.databricks.v1+output": {
              "datasetInfos": [],
              "data": "<div class=\"ansiout\">+--------------+-------------------------+-------------------------+-------------------------+\n|sum(NumAlarms)|avg(ResponseDelayedinMin)|min(ResponseDelayedinMin)|max(ResponseDelayedinMin)|\n+--------------+-------------------------+-------------------------+-------------------------+\n|       4403441|        3.902170335891614|              0.016666668|                1879.6167|\n+--------------+-------------------------+-------------------------+-------------------------+\n\n</div>",
              "removedWidgets": [],
              "addedWidgets": {},
              "type": "html",
              "arguments": {}
            }
          }
        }
      ]
    },
    {
      "cell_type": "code",
      "metadata": {
        "application/vnd.databricks.v1+cell": {
          "title": "",
          "showTitle": false,
          "inputWidgets": {},
          "nuid": "2aa4be30-f313-4e81-8256-d8ba12c4b473"
        },
        "id": "3b4iIbB318Tv",
        "outputId": "a66c1bb1-003f-45be-dc0e-b68651006fa0"
      },
      "source": [
        ""
      ],
      "execution_count": null,
      "outputs": [
        {
          "output_type": "display_data",
          "data": {
            "text/html": [
              "<style scoped>\n",
              "  .ansiout {\n",
              "    display: block;\n",
              "    unicode-bidi: embed;\n",
              "    white-space: pre-wrap;\n",
              "    word-wrap: break-word;\n",
              "    word-break: break-all;\n",
              "    font-family: \"Source Code Pro\", \"Menlo\", monospace;;\n",
              "    font-size: 13px;\n",
              "    color: #555;\n",
              "    margin-left: 4px;\n",
              "    line-height: 19px;\n",
              "  }\n",
              "</style>"
            ]
          },
          "metadata": {
            "tags": [],
            "application/vnd.databricks.v1+output": {
              "type": "ipynbError",
              "data": "",
              "errorSummary": "",
              "arguments": {}
            }
          }
        }
      ]
    }
  ]
}